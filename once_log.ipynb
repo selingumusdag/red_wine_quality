{
 "cells": [
  {
   "cell_type": "code",
   "execution_count": 2,
   "metadata": {},
   "outputs": [],
   "source": [
    "import matplotlib.pyplot as plt\n",
    "import numpy as np\n",
    "import pandas as pd\n",
    "from sklearn import linear_model\n",
    "from sklearn.linear_model import LinearRegression\n",
    "from sklearn.model_selection import train_test_split\n",
    "from sklearn.metrics import mean_absolute_error\n",
    "import statsmodels.api as sm\n",
    "from statsmodels.tools.eval_measures import mse, rmse\n",
    "import seaborn as sns\n",
    "\n",
    "%matplotlib inline\n",
    "pd.options.display.float_format = '{:.3f}'.format\n",
    "\n",
    "import warnings\n",
    "warnings.filterwarnings(action=\"ignore\")"
   ]
  },
  {
   "cell_type": "code",
   "execution_count": 3,
   "metadata": {},
   "outputs": [
    {
     "data": {
      "text/html": [
       "<div>\n",
       "<style scoped>\n",
       "    .dataframe tbody tr th:only-of-type {\n",
       "        vertical-align: middle;\n",
       "    }\n",
       "\n",
       "    .dataframe tbody tr th {\n",
       "        vertical-align: top;\n",
       "    }\n",
       "\n",
       "    .dataframe thead th {\n",
       "        text-align: right;\n",
       "    }\n",
       "</style>\n",
       "<table border=\"1\" class=\"dataframe\">\n",
       "  <thead>\n",
       "    <tr style=\"text-align: right;\">\n",
       "      <th></th>\n",
       "      <th>fixed acidity</th>\n",
       "      <th>volatile acidity</th>\n",
       "      <th>citric acid</th>\n",
       "      <th>residual sugar</th>\n",
       "      <th>chlorides</th>\n",
       "      <th>free sulfur dioxide</th>\n",
       "      <th>total sulfur dioxide</th>\n",
       "      <th>density</th>\n",
       "      <th>pH</th>\n",
       "      <th>sulphates</th>\n",
       "      <th>alcohol</th>\n",
       "      <th>quality</th>\n",
       "    </tr>\n",
       "  </thead>\n",
       "  <tbody>\n",
       "    <tr>\n",
       "      <th>0</th>\n",
       "      <td>7.400</td>\n",
       "      <td>0.700</td>\n",
       "      <td>0.000</td>\n",
       "      <td>1.900</td>\n",
       "      <td>0.076</td>\n",
       "      <td>11.000</td>\n",
       "      <td>34.000</td>\n",
       "      <td>0.998</td>\n",
       "      <td>3.510</td>\n",
       "      <td>0.560</td>\n",
       "      <td>9.400</td>\n",
       "      <td>5</td>\n",
       "    </tr>\n",
       "    <tr>\n",
       "      <th>1</th>\n",
       "      <td>7.800</td>\n",
       "      <td>0.880</td>\n",
       "      <td>0.000</td>\n",
       "      <td>2.600</td>\n",
       "      <td>0.098</td>\n",
       "      <td>25.000</td>\n",
       "      <td>67.000</td>\n",
       "      <td>0.997</td>\n",
       "      <td>3.200</td>\n",
       "      <td>0.680</td>\n",
       "      <td>9.800</td>\n",
       "      <td>5</td>\n",
       "    </tr>\n",
       "    <tr>\n",
       "      <th>2</th>\n",
       "      <td>7.800</td>\n",
       "      <td>0.760</td>\n",
       "      <td>0.040</td>\n",
       "      <td>2.300</td>\n",
       "      <td>0.092</td>\n",
       "      <td>15.000</td>\n",
       "      <td>54.000</td>\n",
       "      <td>0.997</td>\n",
       "      <td>3.260</td>\n",
       "      <td>0.650</td>\n",
       "      <td>9.800</td>\n",
       "      <td>5</td>\n",
       "    </tr>\n",
       "    <tr>\n",
       "      <th>3</th>\n",
       "      <td>11.200</td>\n",
       "      <td>0.280</td>\n",
       "      <td>0.560</td>\n",
       "      <td>1.900</td>\n",
       "      <td>0.075</td>\n",
       "      <td>17.000</td>\n",
       "      <td>60.000</td>\n",
       "      <td>0.998</td>\n",
       "      <td>3.160</td>\n",
       "      <td>0.580</td>\n",
       "      <td>9.800</td>\n",
       "      <td>6</td>\n",
       "    </tr>\n",
       "    <tr>\n",
       "      <th>4</th>\n",
       "      <td>7.400</td>\n",
       "      <td>0.700</td>\n",
       "      <td>0.000</td>\n",
       "      <td>1.900</td>\n",
       "      <td>0.076</td>\n",
       "      <td>11.000</td>\n",
       "      <td>34.000</td>\n",
       "      <td>0.998</td>\n",
       "      <td>3.510</td>\n",
       "      <td>0.560</td>\n",
       "      <td>9.400</td>\n",
       "      <td>5</td>\n",
       "    </tr>\n",
       "  </tbody>\n",
       "</table>\n",
       "</div>"
      ],
      "text/plain": [
       "   fixed acidity  volatile acidity  citric acid  residual sugar  chlorides  \\\n",
       "0          7.400             0.700        0.000           1.900      0.076   \n",
       "1          7.800             0.880        0.000           2.600      0.098   \n",
       "2          7.800             0.760        0.040           2.300      0.092   \n",
       "3         11.200             0.280        0.560           1.900      0.075   \n",
       "4          7.400             0.700        0.000           1.900      0.076   \n",
       "\n",
       "   free sulfur dioxide  total sulfur dioxide  density    pH  sulphates  \\\n",
       "0               11.000                34.000    0.998 3.510      0.560   \n",
       "1               25.000                67.000    0.997 3.200      0.680   \n",
       "2               15.000                54.000    0.997 3.260      0.650   \n",
       "3               17.000                60.000    0.998 3.160      0.580   \n",
       "4               11.000                34.000    0.998 3.510      0.560   \n",
       "\n",
       "   alcohol  quality  \n",
       "0    9.400        5  \n",
       "1    9.800        5  \n",
       "2    9.800        5  \n",
       "3    9.800        6  \n",
       "4    9.400        5  "
      ]
     },
     "execution_count": 3,
     "metadata": {},
     "output_type": "execute_result"
    }
   ],
   "source": [
    "wine_quality=pd.read_csv('./data/winequality-red.csv')\n",
    "wine_quality.head()"
   ]
  },
  {
   "cell_type": "code",
   "execution_count": 19,
   "metadata": {},
   "outputs": [],
   "source": [
    "wine_quality.columns=['fixed_acidity', 'volatile_acidity','citric_acid','residual_sugar','chlorides','free_sulfur_dioxide','total_sulfur_dioxide','density','pH','sulphates','alcohol','quality']"
   ]
  },
  {
   "cell_type": "code",
   "execution_count": 20,
   "metadata": {},
   "outputs": [
    {
     "name": "stdout",
     "output_type": "stream",
     "text": [
      "<class 'pandas.core.frame.DataFrame'>\n",
      "RangeIndex: 1599 entries, 0 to 1598\n",
      "Data columns (total 12 columns):\n",
      " #   Column                Non-Null Count  Dtype  \n",
      "---  ------                --------------  -----  \n",
      " 0   fixed_acidity         1599 non-null   float64\n",
      " 1   volatile_acidity      1599 non-null   float64\n",
      " 2   citric_acid           1599 non-null   float64\n",
      " 3   residual_sugar        1599 non-null   float64\n",
      " 4   chlorides             1599 non-null   float64\n",
      " 5   free_sulfur_dioxide   1599 non-null   float64\n",
      " 6   total_sulfur_dioxide  1599 non-null   float64\n",
      " 7   density               1599 non-null   float64\n",
      " 8   pH                    1599 non-null   float64\n",
      " 9   sulphates             1599 non-null   float64\n",
      " 10  alcohol               1599 non-null   float64\n",
      " 11  quality               1599 non-null   int64  \n",
      "dtypes: float64(11), int64(1)\n",
      "memory usage: 150.0 KB\n"
     ]
    }
   ],
   "source": [
    "wine_quality.info()"
   ]
  },
  {
   "cell_type": "code",
   "execution_count": 21,
   "metadata": {},
   "outputs": [],
   "source": [
    "wine_quality['fixed_acidity']=np.log(wine_quality.fixed_acidity+1)\n",
    "wine_quality['volatile_acidity']=np.log(wine_quality.volatile_acidity+1)\n",
    "wine_quality['citric_acid']=np.log(wine_quality.citric_acid+1)\n",
    "wine_quality['residual_sugar']=np.log(wine_quality.residual_sugar+1)\n",
    "wine_quality['chlorides']=np.log(wine_quality.chlorides+1)\n",
    "wine_quality['free_sulfur_dioxide']=np.log(wine_quality.free_sulfur_dioxide+1)\n",
    "wine_quality['total_sulfur_dioxide']=np.log(wine_quality.total_sulfur_dioxide+1)\n",
    "wine_quality['density']=np.log(wine_quality.density+1)\n",
    "wine_quality['pH']=np.log(wine_quality.pH+1)\n",
    "wine_quality['sulphates']=np.log(wine_quality.sulphates+1)\n",
    "wine_quality['alcohol']=np.log(wine_quality.alcohol+1)"
   ]
  },
  {
   "cell_type": "code",
   "execution_count": 22,
   "metadata": {},
   "outputs": [
    {
     "data": {
      "text/html": [
       "<div>\n",
       "<style scoped>\n",
       "    .dataframe tbody tr th:only-of-type {\n",
       "        vertical-align: middle;\n",
       "    }\n",
       "\n",
       "    .dataframe tbody tr th {\n",
       "        vertical-align: top;\n",
       "    }\n",
       "\n",
       "    .dataframe thead th {\n",
       "        text-align: right;\n",
       "    }\n",
       "</style>\n",
       "<table border=\"1\" class=\"dataframe\">\n",
       "  <thead>\n",
       "    <tr style=\"text-align: right;\">\n",
       "      <th></th>\n",
       "      <th>fixed_acidity</th>\n",
       "      <th>volatile_acidity</th>\n",
       "      <th>citric_acid</th>\n",
       "      <th>residual_sugar</th>\n",
       "      <th>chlorides</th>\n",
       "      <th>free_sulfur_dioxide</th>\n",
       "      <th>total_sulfur_dioxide</th>\n",
       "      <th>density</th>\n",
       "      <th>pH</th>\n",
       "      <th>sulphates</th>\n",
       "      <th>alcohol</th>\n",
       "      <th>quality</th>\n",
       "    </tr>\n",
       "  </thead>\n",
       "  <tbody>\n",
       "    <tr>\n",
       "      <th>0</th>\n",
       "      <td>2.128</td>\n",
       "      <td>0.531</td>\n",
       "      <td>0.000</td>\n",
       "      <td>1.065</td>\n",
       "      <td>0.073</td>\n",
       "      <td>2.485</td>\n",
       "      <td>3.555</td>\n",
       "      <td>0.692</td>\n",
       "      <td>1.506</td>\n",
       "      <td>0.445</td>\n",
       "      <td>2.342</td>\n",
       "      <td>5</td>\n",
       "    </tr>\n",
       "    <tr>\n",
       "      <th>1</th>\n",
       "      <td>2.175</td>\n",
       "      <td>0.631</td>\n",
       "      <td>0.000</td>\n",
       "      <td>1.281</td>\n",
       "      <td>0.093</td>\n",
       "      <td>3.258</td>\n",
       "      <td>4.220</td>\n",
       "      <td>0.692</td>\n",
       "      <td>1.435</td>\n",
       "      <td>0.519</td>\n",
       "      <td>2.380</td>\n",
       "      <td>5</td>\n",
       "    </tr>\n",
       "    <tr>\n",
       "      <th>2</th>\n",
       "      <td>2.175</td>\n",
       "      <td>0.565</td>\n",
       "      <td>0.039</td>\n",
       "      <td>1.194</td>\n",
       "      <td>0.088</td>\n",
       "      <td>2.773</td>\n",
       "      <td>4.007</td>\n",
       "      <td>0.692</td>\n",
       "      <td>1.449</td>\n",
       "      <td>0.501</td>\n",
       "      <td>2.380</td>\n",
       "      <td>5</td>\n",
       "    </tr>\n",
       "    <tr>\n",
       "      <th>3</th>\n",
       "      <td>2.501</td>\n",
       "      <td>0.247</td>\n",
       "      <td>0.445</td>\n",
       "      <td>1.065</td>\n",
       "      <td>0.072</td>\n",
       "      <td>2.890</td>\n",
       "      <td>4.111</td>\n",
       "      <td>0.692</td>\n",
       "      <td>1.426</td>\n",
       "      <td>0.457</td>\n",
       "      <td>2.380</td>\n",
       "      <td>6</td>\n",
       "    </tr>\n",
       "    <tr>\n",
       "      <th>4</th>\n",
       "      <td>2.128</td>\n",
       "      <td>0.531</td>\n",
       "      <td>0.000</td>\n",
       "      <td>1.065</td>\n",
       "      <td>0.073</td>\n",
       "      <td>2.485</td>\n",
       "      <td>3.555</td>\n",
       "      <td>0.692</td>\n",
       "      <td>1.506</td>\n",
       "      <td>0.445</td>\n",
       "      <td>2.342</td>\n",
       "      <td>5</td>\n",
       "    </tr>\n",
       "  </tbody>\n",
       "</table>\n",
       "</div>"
      ],
      "text/plain": [
       "   fixed_acidity  volatile_acidity  citric_acid  residual_sugar  chlorides  \\\n",
       "0          2.128             0.531        0.000           1.065      0.073   \n",
       "1          2.175             0.631        0.000           1.281      0.093   \n",
       "2          2.175             0.565        0.039           1.194      0.088   \n",
       "3          2.501             0.247        0.445           1.065      0.072   \n",
       "4          2.128             0.531        0.000           1.065      0.073   \n",
       "\n",
       "   free_sulfur_dioxide  total_sulfur_dioxide  density    pH  sulphates  \\\n",
       "0                2.485                 3.555    0.692 1.506      0.445   \n",
       "1                3.258                 4.220    0.692 1.435      0.519   \n",
       "2                2.773                 4.007    0.692 1.449      0.501   \n",
       "3                2.890                 4.111    0.692 1.426      0.457   \n",
       "4                2.485                 3.555    0.692 1.506      0.445   \n",
       "\n",
       "   alcohol  quality  \n",
       "0    2.342        5  \n",
       "1    2.380        5  \n",
       "2    2.380        5  \n",
       "3    2.380        6  \n",
       "4    2.342        5  "
      ]
     },
     "execution_count": 22,
     "metadata": {},
     "output_type": "execute_result"
    }
   ],
   "source": [
    "wine_quality.head()"
   ]
  },
  {
   "cell_type": "code",
   "execution_count": 7,
   "metadata": {},
   "outputs": [],
   "source": [
    "Y = wine_quality['quality']\n",
    "X = wine_quality[['fixed_acidity', 'volatile_acidity','citric_acid','residual_sugar','chlorides','free_sulfur_dioxide','total_sulfur_dioxide','density','pH','sulphates','alcohol']]"
   ]
  },
  {
   "cell_type": "code",
   "execution_count": 8,
   "metadata": {},
   "outputs": [],
   "source": [
    "X_train, X_test, Y_train, Y_test = train_test_split(X, Y, test_size = 0.2, random_state = 465)\n"
   ]
  },
  {
   "cell_type": "code",
   "execution_count": 9,
   "metadata": {},
   "outputs": [
    {
     "data": {
      "text/html": [
       "<div>\n",
       "<style scoped>\n",
       "    .dataframe tbody tr th:only-of-type {\n",
       "        vertical-align: middle;\n",
       "    }\n",
       "\n",
       "    .dataframe tbody tr th {\n",
       "        vertical-align: top;\n",
       "    }\n",
       "\n",
       "    .dataframe thead th {\n",
       "        text-align: right;\n",
       "    }\n",
       "</style>\n",
       "<table border=\"1\" class=\"dataframe\">\n",
       "  <thead>\n",
       "    <tr style=\"text-align: right;\">\n",
       "      <th></th>\n",
       "      <th>mse Test</th>\n",
       "      <th>Rmse Test</th>\n",
       "      <th>RSquare Test</th>\n",
       "      <th>mse Train</th>\n",
       "      <th>Rmse Train</th>\n",
       "      <th>RSquare Train</th>\n",
       "    </tr>\n",
       "  </thead>\n",
       "  <tbody>\n",
       "    <tr>\n",
       "      <th>0</th>\n",
       "      <td>0.361</td>\n",
       "      <td>0.601</td>\n",
       "      <td>0.285</td>\n",
       "      <td>0.431</td>\n",
       "      <td>0.657</td>\n",
       "      <td>0.373</td>\n",
       "    </tr>\n",
       "  </tbody>\n",
       "</table>\n",
       "</div>"
      ],
      "text/plain": [
       "   mse Test  Rmse Test  RSquare Test  mse Train  Rmse Train  RSquare Train\n",
       "0     0.361      0.601         0.285      0.431       0.657          0.373"
      ]
     },
     "execution_count": 9,
     "metadata": {},
     "output_type": "execute_result"
    }
   ],
   "source": [
    "ols_model = LinearRegression()\n",
    "ols_model.fit(X_train,Y_train)\n",
    "\n",
    "ols_model_train_predict = ols_model.predict(X_train)\n",
    "ols_model_test_predict = ols_model.predict(X_test)\n",
    "\n",
    "log_result_ols=[]\n",
    "log_result_ols.append((mse(Y_test,ols_model_test_predict),rmse(Y_test,ols_model_test_predict),ols_model.score(X_test,Y_test),\n",
    "                         mse(Y_train, ols_model_train_predict),rmse(Y_train, ols_model_train_predict),ols_model.score(X_train,Y_train)))\n",
    "\n",
    "log_result_ols=pd.DataFrame(log_result_ols,columns=['mse Test','Rmse Test','RSquare Test','mse Train','Rmse Train','RSquare Train'])\n",
    "log_result_ols"
   ]
  },
  {
   "cell_type": "code",
   "execution_count": 10,
   "metadata": {},
   "outputs": [],
   "source": [
    "alpha_list=[10**x for x in range(-3,3)]"
   ]
  },
  {
   "cell_type": "code",
   "execution_count": 11,
   "metadata": {},
   "outputs": [
    {
     "data": {
      "text/html": [
       "<div>\n",
       "<style scoped>\n",
       "    .dataframe tbody tr th:only-of-type {\n",
       "        vertical-align: middle;\n",
       "    }\n",
       "\n",
       "    .dataframe tbody tr th {\n",
       "        vertical-align: top;\n",
       "    }\n",
       "\n",
       "    .dataframe thead th {\n",
       "        text-align: right;\n",
       "    }\n",
       "</style>\n",
       "<table border=\"1\" class=\"dataframe\">\n",
       "  <thead>\n",
       "    <tr style=\"text-align: right;\">\n",
       "      <th></th>\n",
       "      <th>mse Test</th>\n",
       "      <th>Rmse Test</th>\n",
       "      <th>RSquare Test</th>\n",
       "      <th>mse Train</th>\n",
       "      <th>Rmse Train</th>\n",
       "      <th>RSquare Train</th>\n",
       "      <th>Alpha</th>\n",
       "    </tr>\n",
       "  </thead>\n",
       "  <tbody>\n",
       "    <tr>\n",
       "      <th>0</th>\n",
       "      <td>0.362</td>\n",
       "      <td>0.602</td>\n",
       "      <td>0.284</td>\n",
       "      <td>0.432</td>\n",
       "      <td>0.657</td>\n",
       "      <td>0.372</td>\n",
       "      <td>0.001</td>\n",
       "    </tr>\n",
       "    <tr>\n",
       "      <th>1</th>\n",
       "      <td>0.362</td>\n",
       "      <td>0.601</td>\n",
       "      <td>0.284</td>\n",
       "      <td>0.432</td>\n",
       "      <td>0.657</td>\n",
       "      <td>0.372</td>\n",
       "      <td>0.010</td>\n",
       "    </tr>\n",
       "    <tr>\n",
       "      <th>2</th>\n",
       "      <td>0.359</td>\n",
       "      <td>0.599</td>\n",
       "      <td>0.290</td>\n",
       "      <td>0.432</td>\n",
       "      <td>0.657</td>\n",
       "      <td>0.372</td>\n",
       "      <td>0.100</td>\n",
       "    </tr>\n",
       "    <tr>\n",
       "      <th>3</th>\n",
       "      <td>0.346</td>\n",
       "      <td>0.588</td>\n",
       "      <td>0.316</td>\n",
       "      <td>0.435</td>\n",
       "      <td>0.660</td>\n",
       "      <td>0.367</td>\n",
       "      <td>1.000</td>\n",
       "    </tr>\n",
       "    <tr>\n",
       "      <th>4</th>\n",
       "      <td>0.342</td>\n",
       "      <td>0.585</td>\n",
       "      <td>0.323</td>\n",
       "      <td>0.476</td>\n",
       "      <td>0.690</td>\n",
       "      <td>0.307</td>\n",
       "      <td>10.000</td>\n",
       "    </tr>\n",
       "    <tr>\n",
       "      <th>5</th>\n",
       "      <td>0.419</td>\n",
       "      <td>0.647</td>\n",
       "      <td>0.171</td>\n",
       "      <td>0.596</td>\n",
       "      <td>0.772</td>\n",
       "      <td>0.133</td>\n",
       "      <td>100.000</td>\n",
       "    </tr>\n",
       "  </tbody>\n",
       "</table>\n",
       "</div>"
      ],
      "text/plain": [
       "   mse Test  Rmse Test  RSquare Test  mse Train  Rmse Train  RSquare Train  \\\n",
       "0     0.362      0.602         0.284      0.432       0.657          0.372   \n",
       "1     0.362      0.601         0.284      0.432       0.657          0.372   \n",
       "2     0.359      0.599         0.290      0.432       0.657          0.372   \n",
       "3     0.346      0.588         0.316      0.435       0.660          0.367   \n",
       "4     0.342      0.585         0.323      0.476       0.690          0.307   \n",
       "5     0.419      0.647         0.171      0.596       0.772          0.133   \n",
       "\n",
       "    Alpha  \n",
       "0   0.001  \n",
       "1   0.010  \n",
       "2   0.100  \n",
       "3   1.000  \n",
       "4  10.000  \n",
       "5 100.000  "
      ]
     },
     "execution_count": 11,
     "metadata": {},
     "output_type": "execute_result"
    }
   ],
   "source": [
    "from sklearn.linear_model import Ridge\n",
    "log_result_ridge=[]\n",
    "\n",
    "\n",
    "for alpha in alpha_list:\n",
    "    ridgeregr = Ridge(alpha=alpha) \n",
    "    ridgeregr.fit(X_train, Y_train)\n",
    "\n",
    "    Y_preds_train = ridgeregr.predict(X_train)\n",
    "    Y_preds_test = ridgeregr.predict(X_test)\n",
    "    log_result_ridge.append((mse(Y_test, Y_preds_test),rmse(Y_test, Y_preds_test),ridgeregr.score(X_test, Y_test),\n",
    "                         mse(Y_train, Y_preds_train),rmse(Y_train, Y_preds_train),ridgeregr.score(X_train, Y_train),alpha))\n",
    "    \n",
    "\n",
    "log_result_ridge=pd.DataFrame(log_result_ridge,columns=['mse Test','Rmse Test','RSquare Test','mse Train','Rmse Train','RSquare Train','Alpha'])\n",
    "log_result_ridge"
   ]
  },
  {
   "cell_type": "code",
   "execution_count": 12,
   "metadata": {},
   "outputs": [
    {
     "data": {
      "text/html": [
       "<div>\n",
       "<style scoped>\n",
       "    .dataframe tbody tr th:only-of-type {\n",
       "        vertical-align: middle;\n",
       "    }\n",
       "\n",
       "    .dataframe tbody tr th {\n",
       "        vertical-align: top;\n",
       "    }\n",
       "\n",
       "    .dataframe thead th {\n",
       "        text-align: right;\n",
       "    }\n",
       "</style>\n",
       "<table border=\"1\" class=\"dataframe\">\n",
       "  <thead>\n",
       "    <tr style=\"text-align: right;\">\n",
       "      <th></th>\n",
       "      <th>mse Test</th>\n",
       "      <th>Rmse Test</th>\n",
       "      <th>RSquare Test</th>\n",
       "      <th>mse Train</th>\n",
       "      <th>Rmse Train</th>\n",
       "      <th>RSquare Train</th>\n",
       "      <th>Alpha</th>\n",
       "    </tr>\n",
       "  </thead>\n",
       "  <tbody>\n",
       "    <tr>\n",
       "      <th>0</th>\n",
       "      <td>0.349</td>\n",
       "      <td>0.591</td>\n",
       "      <td>0.309</td>\n",
       "      <td>0.436</td>\n",
       "      <td>0.660</td>\n",
       "      <td>0.366</td>\n",
       "      <td>0.001</td>\n",
       "    </tr>\n",
       "    <tr>\n",
       "      <th>1</th>\n",
       "      <td>0.345</td>\n",
       "      <td>0.587</td>\n",
       "      <td>0.318</td>\n",
       "      <td>0.468</td>\n",
       "      <td>0.684</td>\n",
       "      <td>0.319</td>\n",
       "      <td>0.010</td>\n",
       "    </tr>\n",
       "    <tr>\n",
       "      <th>2</th>\n",
       "      <td>0.510</td>\n",
       "      <td>0.714</td>\n",
       "      <td>-0.008</td>\n",
       "      <td>0.688</td>\n",
       "      <td>0.829</td>\n",
       "      <td>0.000</td>\n",
       "      <td>0.100</td>\n",
       "    </tr>\n",
       "    <tr>\n",
       "      <th>3</th>\n",
       "      <td>0.510</td>\n",
       "      <td>0.714</td>\n",
       "      <td>-0.008</td>\n",
       "      <td>0.688</td>\n",
       "      <td>0.829</td>\n",
       "      <td>0.000</td>\n",
       "      <td>1.000</td>\n",
       "    </tr>\n",
       "    <tr>\n",
       "      <th>4</th>\n",
       "      <td>0.510</td>\n",
       "      <td>0.714</td>\n",
       "      <td>-0.008</td>\n",
       "      <td>0.688</td>\n",
       "      <td>0.829</td>\n",
       "      <td>0.000</td>\n",
       "      <td>10.000</td>\n",
       "    </tr>\n",
       "    <tr>\n",
       "      <th>5</th>\n",
       "      <td>0.510</td>\n",
       "      <td>0.714</td>\n",
       "      <td>-0.008</td>\n",
       "      <td>0.688</td>\n",
       "      <td>0.829</td>\n",
       "      <td>0.000</td>\n",
       "      <td>100.000</td>\n",
       "    </tr>\n",
       "  </tbody>\n",
       "</table>\n",
       "</div>"
      ],
      "text/plain": [
       "   mse Test  Rmse Test  RSquare Test  mse Train  Rmse Train  RSquare Train  \\\n",
       "0     0.349      0.591         0.309      0.436       0.660          0.366   \n",
       "1     0.345      0.587         0.318      0.468       0.684          0.319   \n",
       "2     0.510      0.714        -0.008      0.688       0.829          0.000   \n",
       "3     0.510      0.714        -0.008      0.688       0.829          0.000   \n",
       "4     0.510      0.714        -0.008      0.688       0.829          0.000   \n",
       "5     0.510      0.714        -0.008      0.688       0.829          0.000   \n",
       "\n",
       "    Alpha  \n",
       "0   0.001  \n",
       "1   0.010  \n",
       "2   0.100  \n",
       "3   1.000  \n",
       "4  10.000  \n",
       "5 100.000  "
      ]
     },
     "execution_count": 12,
     "metadata": {},
     "output_type": "execute_result"
    }
   ],
   "source": [
    "from sklearn.linear_model import Lasso\n",
    "log_result_lasso=[]\n",
    "\n",
    "\n",
    "for alpha in alpha_list:\n",
    "    lassoregr = Lasso(alpha=alpha) \n",
    "    lassoregr.fit(X_train, Y_train)\n",
    "\n",
    "    Y_preds_train = lassoregr.predict(X_train)\n",
    "    Y_preds_test = lassoregr.predict(X_test)\n",
    "    log_result_lasso.append((mse(Y_test, Y_preds_test),rmse(Y_test, Y_preds_test),lassoregr.score(X_test, Y_test),\n",
    "                         mse(Y_train, Y_preds_train),rmse(Y_train, Y_preds_train),lassoregr.score(X_train, Y_train),alpha))\n",
    "    \n",
    "\n",
    "log_result_lasso=pd.DataFrame(log_result_lasso,columns=['mse Test','Rmse Test','RSquare Test','mse Train','Rmse Train','RSquare Train','Alpha'])\n",
    "log_result_lasso"
   ]
  },
  {
   "cell_type": "code",
   "execution_count": 13,
   "metadata": {},
   "outputs": [],
   "source": [
    "title_font = {'family': 'arial', 'color': 'darkred','weight': 'bold','size': 13 }\n",
    "axis_font  = {'family': 'arial', 'color': 'darkblue','weight': 'bold','size': 10 }"
   ]
  },
  {
   "cell_type": "code",
   "execution_count": 14,
   "metadata": {},
   "outputs": [
    {
     "data": {
      "image/png": "[encoded data removed]",
      "text/plain": [
       "<Figure size 432x288 with 1 Axes>"
      ]
     },
     "metadata": {
      "needs_background": "light"
     },
     "output_type": "display_data"
    }
   ],
   "source": [
    "plt.hist(wine_quality.fixed_acidity,bins=60)\n",
    "plt.title('fixed acidity', fontdict=title_font)\n",
    "plt.show()"
   ]
  },
  {
   "cell_type": "code",
   "execution_count": 15,
   "metadata": {},
   "outputs": [],
   "source": [
    "wine_quality.fixed_acidity[wine_quality.fixed_acidity>2.7]=2.7"
   ]
  },
  {
   "cell_type": "code",
   "execution_count": 16,
   "metadata": {},
   "outputs": [
    {
     "data": {
      "image/png": "[encoded data removed]",
      "text/plain": [
       "<Figure size 432x288 with 1 Axes>"
      ]
     },
     "metadata": {
      "needs_background": "light"
     },
     "output_type": "display_data"
    }
   ],
   "source": [
    "plt.hist(wine_quality.volatile_acidity,bins=60)\n",
    "plt.title('volatile acidity', fontdict=title_font)\n",
    "plt.show()"
   ]
  },
  {
   "cell_type": "code",
   "execution_count": 17,
   "metadata": {},
   "outputs": [],
   "source": [
    "wine_quality.volatile_acidity[wine_quality.volatile_acidity>0.8]=0.8"
   ]
  },
  {
   "cell_type": "code",
   "execution_count": 18,
   "metadata": {},
   "outputs": [
    {
     "data": {
      "image/png": "[encoded data removed]",
      "text/plain": [
       "<Figure size 432x288 with 1 Axes>"
      ]
     },
     "metadata": {
      "needs_background": "light"
     },
     "output_type": "display_data"
    }
   ],
   "source": [
    "plt.hist(wine_quality.residual_sugar,bins=60)\n",
    "plt.title('residual sugar', fontdict=title_font)\n",
    "plt.show()"
   ]
  },
  {
   "cell_type": "code",
   "execution_count": 19,
   "metadata": {},
   "outputs": [],
   "source": [
    "wine_quality.residual_sugar[wine_quality.residual_sugar>2.5]=2.5"
   ]
  },
  {
   "cell_type": "code",
   "execution_count": 20,
   "metadata": {},
   "outputs": [
    {
     "data": {
      "image/png": "[encoded data removed]",
      "text/plain": [
       "<Figure size 432x288 with 1 Axes>"
      ]
     },
     "metadata": {
      "needs_background": "light"
     },
     "output_type": "display_data"
    }
   ],
   "source": [
    "plt.hist(wine_quality.chlorides,bins=60)\n",
    "plt.title('chlorides', fontdict=title_font)\n",
    "plt.show()"
   ]
  },
  {
   "cell_type": "code",
   "execution_count": 21,
   "metadata": {},
   "outputs": [],
   "source": [
    "wine_quality.chlorides[wine_quality.chlorides>0.25]=0.25"
   ]
  },
  {
   "cell_type": "code",
   "execution_count": 22,
   "metadata": {},
   "outputs": [
    {
     "data": {
      "image/png": "[encoded data removed]",
      "text/plain": [
       "<Figure size 432x288 with 1 Axes>"
      ]
     },
     "metadata": {
      "needs_background": "light"
     },
     "output_type": "display_data"
    }
   ],
   "source": [
    "plt.hist(wine_quality.free_sulfur_dioxide,bins=100)\n",
    "plt.title('free sulfur dioxide', fontdict=title_font)\n",
    "plt.show()"
   ]
  },
  {
   "cell_type": "code",
   "execution_count": 23,
   "metadata": {},
   "outputs": [],
   "source": [
    "wine_quality.free_sulfur_dioxide[wine_quality.free_sulfur_dioxide>4.0]=4.0"
   ]
  },
  {
   "cell_type": "code",
   "execution_count": 24,
   "metadata": {},
   "outputs": [
    {
     "data": {
      "image/png": "[encoded data removed]",
      "text/plain": [
       "<Figure size 432x288 with 1 Axes>"
      ]
     },
     "metadata": {
      "needs_background": "light"
     },
     "output_type": "display_data"
    }
   ],
   "source": [
    "plt.hist(wine_quality.total_sulfur_dioxide,bins=100)\n",
    "plt.title('total sulfur dioxide', fontdict=title_font)\n",
    "plt.show()"
   ]
  },
  {
   "cell_type": "code",
   "execution_count": 25,
   "metadata": {},
   "outputs": [],
   "source": [
    "wine_quality.total_sulfur_dioxide[wine_quality.total_sulfur_dioxide>5.0]=5.0"
   ]
  },
  {
   "cell_type": "code",
   "execution_count": 26,
   "metadata": {},
   "outputs": [
    {
     "data": {
      "image/png": "[encoded data removed]",
      "text/plain": [
       "<Figure size 432x288 with 1 Axes>"
      ]
     },
     "metadata": {
      "needs_background": "light"
     },
     "output_type": "display_data"
    }
   ],
   "source": [
    "plt.hist(wine_quality.density,bins=100)\n",
    "plt.title('density', fontdict=title_font)\n",
    "plt.show()"
   ]
  },
  {
   "cell_type": "code",
   "execution_count": 27,
   "metadata": {},
   "outputs": [
    {
     "data": {
      "image/png": "[encoded data removed]",
      "text/plain": [
       "<Figure size 432x288 with 1 Axes>"
      ]
     },
     "metadata": {
      "needs_background": "light"
     },
     "output_type": "display_data"
    }
   ],
   "source": [
    "plt.hist(wine_quality.pH,bins=100)\n",
    "plt.title('pH', fontdict=title_font)\n",
    "plt.show()"
   ]
  },
  {
   "cell_type": "code",
   "execution_count": 28,
   "metadata": {},
   "outputs": [],
   "source": [
    "wine_quality.pH[wine_quality.pH>1.55]=1.55"
   ]
  },
  {
   "cell_type": "code",
   "execution_count": 29,
   "metadata": {},
   "outputs": [
    {
     "data": {
      "image/png": "[encoded data removed]",
      "text/plain": [
       "<Figure size 432x288 with 1 Axes>"
      ]
     },
     "metadata": {
      "needs_background": "light"
     },
     "output_type": "display_data"
    }
   ],
   "source": [
    "plt.hist(wine_quality.sulphates,bins=60)\n",
    "plt.title('sulphates', fontdict=title_font)\n",
    "plt.show()"
   ]
  },
  {
   "cell_type": "code",
   "execution_count": 30,
   "metadata": {},
   "outputs": [],
   "source": [
    "wine_quality.sulphates[wine_quality.sulphates>0.8]=0.8"
   ]
  },
  {
   "cell_type": "code",
   "execution_count": 31,
   "metadata": {},
   "outputs": [],
   "source": [
    "Y = wine_quality['quality']\n",
    "X = wine_quality[['fixed_acidity', 'volatile_acidity','citric_acid','residual_sugar','chlorides','free_sulfur_dioxide','total_sulfur_dioxide','density','pH','sulphates','alcohol']]\n",
    "\n",
    "X_train, X_test, Y_train, Y_test = train_test_split(X, Y, test_size = 0.2, random_state = 465)"
   ]
  },
  {
   "cell_type": "code",
   "execution_count": 32,
   "metadata": {},
   "outputs": [
    {
     "data": {
      "text/html": [
       "<div>\n",
       "<style scoped>\n",
       "    .dataframe tbody tr th:only-of-type {\n",
       "        vertical-align: middle;\n",
       "    }\n",
       "\n",
       "    .dataframe tbody tr th {\n",
       "        vertical-align: top;\n",
       "    }\n",
       "\n",
       "    .dataframe thead th {\n",
       "        text-align: right;\n",
       "    }\n",
       "</style>\n",
       "<table border=\"1\" class=\"dataframe\">\n",
       "  <thead>\n",
       "    <tr style=\"text-align: right;\">\n",
       "      <th></th>\n",
       "      <th>mse Test</th>\n",
       "      <th>Rmse Test</th>\n",
       "      <th>RSquare Test</th>\n",
       "      <th>mse Train</th>\n",
       "      <th>Rmse Train</th>\n",
       "      <th>RSquare Train</th>\n",
       "    </tr>\n",
       "  </thead>\n",
       "  <tbody>\n",
       "    <tr>\n",
       "      <th>0</th>\n",
       "      <td>0.351</td>\n",
       "      <td>0.593</td>\n",
       "      <td>0.305</td>\n",
       "      <td>0.431</td>\n",
       "      <td>0.656</td>\n",
       "      <td>0.374</td>\n",
       "    </tr>\n",
       "  </tbody>\n",
       "</table>\n",
       "</div>"
      ],
      "text/plain": [
       "   mse Test  Rmse Test  RSquare Test  mse Train  Rmse Train  RSquare Train\n",
       "0     0.351      0.593         0.305      0.431       0.656          0.374"
      ]
     },
     "execution_count": 32,
     "metadata": {},
     "output_type": "execute_result"
    }
   ],
   "source": [
    "ols_model = LinearRegression()\n",
    "ols_model.fit(X_train,Y_train)\n",
    "\n",
    "ols_model_train_predict = ols_model.predict(X_train)\n",
    "ols_model_test_predict = ols_model.predict(X_test)\n",
    "\n",
    "log_wins_ols=[]\n",
    "log_wins_ols.append((mse(Y_test,ols_model_test_predict),rmse(Y_test,ols_model_test_predict),ols_model.score(X_test,Y_test),\n",
    "                         mse(Y_train, ols_model_train_predict),rmse(Y_train, ols_model_train_predict),ols_model.score(X_train,Y_train)))\n",
    "\n",
    "log_wins_ols=pd.DataFrame(log_wins_ols,columns=['mse Test','Rmse Test','RSquare Test','mse Train','Rmse Train','RSquare Train'])\n",
    "log_wins_ols"
   ]
  },
  {
   "cell_type": "code",
   "execution_count": 33,
   "metadata": {},
   "outputs": [
    {
     "data": {
      "text/html": [
       "<div>\n",
       "<style scoped>\n",
       "    .dataframe tbody tr th:only-of-type {\n",
       "        vertical-align: middle;\n",
       "    }\n",
       "\n",
       "    .dataframe tbody tr th {\n",
       "        vertical-align: top;\n",
       "    }\n",
       "\n",
       "    .dataframe thead th {\n",
       "        text-align: right;\n",
       "    }\n",
       "</style>\n",
       "<table border=\"1\" class=\"dataframe\">\n",
       "  <thead>\n",
       "    <tr style=\"text-align: right;\">\n",
       "      <th></th>\n",
       "      <th>mse Test</th>\n",
       "      <th>Rmse Test</th>\n",
       "      <th>RSquare Test</th>\n",
       "      <th>mse Train</th>\n",
       "      <th>Rmse Train</th>\n",
       "      <th>RSquare Train</th>\n",
       "      <th>Alpha</th>\n",
       "    </tr>\n",
       "  </thead>\n",
       "  <tbody>\n",
       "    <tr>\n",
       "      <th>0</th>\n",
       "      <td>0.352</td>\n",
       "      <td>0.593</td>\n",
       "      <td>0.304</td>\n",
       "      <td>0.431</td>\n",
       "      <td>0.657</td>\n",
       "      <td>0.373</td>\n",
       "      <td>0.001</td>\n",
       "    </tr>\n",
       "    <tr>\n",
       "      <th>1</th>\n",
       "      <td>0.352</td>\n",
       "      <td>0.593</td>\n",
       "      <td>0.304</td>\n",
       "      <td>0.431</td>\n",
       "      <td>0.657</td>\n",
       "      <td>0.373</td>\n",
       "      <td>0.010</td>\n",
       "    </tr>\n",
       "    <tr>\n",
       "      <th>2</th>\n",
       "      <td>0.349</td>\n",
       "      <td>0.591</td>\n",
       "      <td>0.309</td>\n",
       "      <td>0.432</td>\n",
       "      <td>0.657</td>\n",
       "      <td>0.372</td>\n",
       "      <td>0.100</td>\n",
       "    </tr>\n",
       "    <tr>\n",
       "      <th>3</th>\n",
       "      <td>0.339</td>\n",
       "      <td>0.582</td>\n",
       "      <td>0.330</td>\n",
       "      <td>0.435</td>\n",
       "      <td>0.660</td>\n",
       "      <td>0.367</td>\n",
       "      <td>1.000</td>\n",
       "    </tr>\n",
       "    <tr>\n",
       "      <th>4</th>\n",
       "      <td>0.340</td>\n",
       "      <td>0.583</td>\n",
       "      <td>0.328</td>\n",
       "      <td>0.476</td>\n",
       "      <td>0.690</td>\n",
       "      <td>0.307</td>\n",
       "      <td>10.000</td>\n",
       "    </tr>\n",
       "    <tr>\n",
       "      <th>5</th>\n",
       "      <td>0.418</td>\n",
       "      <td>0.647</td>\n",
       "      <td>0.173</td>\n",
       "      <td>0.595</td>\n",
       "      <td>0.772</td>\n",
       "      <td>0.134</td>\n",
       "      <td>100.000</td>\n",
       "    </tr>\n",
       "  </tbody>\n",
       "</table>\n",
       "</div>"
      ],
      "text/plain": [
       "   mse Test  Rmse Test  RSquare Test  mse Train  Rmse Train  RSquare Train  \\\n",
       "0     0.352      0.593         0.304      0.431       0.657          0.373   \n",
       "1     0.352      0.593         0.304      0.431       0.657          0.373   \n",
       "2     0.349      0.591         0.309      0.432       0.657          0.372   \n",
       "3     0.339      0.582         0.330      0.435       0.660          0.367   \n",
       "4     0.340      0.583         0.328      0.476       0.690          0.307   \n",
       "5     0.418      0.647         0.173      0.595       0.772          0.134   \n",
       "\n",
       "    Alpha  \n",
       "0   0.001  \n",
       "1   0.010  \n",
       "2   0.100  \n",
       "3   1.000  \n",
       "4  10.000  \n",
       "5 100.000  "
      ]
     },
     "execution_count": 33,
     "metadata": {},
     "output_type": "execute_result"
    }
   ],
   "source": [
    "alpha_list=[10**x for x in range(-3,3)]\n",
    "\n",
    "from sklearn.linear_model import Ridge\n",
    "log_wins_ridge=[]\n",
    "\n",
    "\n",
    "for alpha in alpha_list:\n",
    "    ridgeregr = Ridge(alpha=alpha) \n",
    "    ridgeregr.fit(X_train, Y_train)\n",
    "\n",
    "    Y_preds_train = ridgeregr.predict(X_train)\n",
    "    Y_preds_test = ridgeregr.predict(X_test)\n",
    "    log_wins_ridge.append((mse(Y_test, Y_preds_test),rmse(Y_test, Y_preds_test),ridgeregr.score(X_test, Y_test),\n",
    "                         mse(Y_train, Y_preds_train),rmse(Y_train, Y_preds_train),ridgeregr.score(X_train, Y_train),alpha))\n",
    "    \n",
    "\n",
    "log_wins_ridge=pd.DataFrame(log_wins_ridge,columns=['mse Test','Rmse Test','RSquare Test','mse Train','Rmse Train','RSquare Train','Alpha'])\n",
    "log_wins_ridge"
   ]
  },
  {
   "cell_type": "code",
   "execution_count": 34,
   "metadata": {},
   "outputs": [
    {
     "data": {
      "text/html": [
       "<div>\n",
       "<style scoped>\n",
       "    .dataframe tbody tr th:only-of-type {\n",
       "        vertical-align: middle;\n",
       "    }\n",
       "\n",
       "    .dataframe tbody tr th {\n",
       "        vertical-align: top;\n",
       "    }\n",
       "\n",
       "    .dataframe thead th {\n",
       "        text-align: right;\n",
       "    }\n",
       "</style>\n",
       "<table border=\"1\" class=\"dataframe\">\n",
       "  <thead>\n",
       "    <tr style=\"text-align: right;\">\n",
       "      <th></th>\n",
       "      <th>mse Test</th>\n",
       "      <th>Rmse Test</th>\n",
       "      <th>RSquare Test</th>\n",
       "      <th>mse Train</th>\n",
       "      <th>Rmse Train</th>\n",
       "      <th>RSquare Train</th>\n",
       "      <th>Alpha</th>\n",
       "    </tr>\n",
       "  </thead>\n",
       "  <tbody>\n",
       "    <tr>\n",
       "      <th>0</th>\n",
       "      <td>0.342</td>\n",
       "      <td>0.585</td>\n",
       "      <td>0.322</td>\n",
       "      <td>0.436</td>\n",
       "      <td>0.660</td>\n",
       "      <td>0.366</td>\n",
       "      <td>0.001</td>\n",
       "    </tr>\n",
       "    <tr>\n",
       "      <th>1</th>\n",
       "      <td>0.342</td>\n",
       "      <td>0.585</td>\n",
       "      <td>0.323</td>\n",
       "      <td>0.467</td>\n",
       "      <td>0.683</td>\n",
       "      <td>0.321</td>\n",
       "      <td>0.010</td>\n",
       "    </tr>\n",
       "    <tr>\n",
       "      <th>2</th>\n",
       "      <td>0.510</td>\n",
       "      <td>0.714</td>\n",
       "      <td>-0.008</td>\n",
       "      <td>0.688</td>\n",
       "      <td>0.829</td>\n",
       "      <td>0.000</td>\n",
       "      <td>0.100</td>\n",
       "    </tr>\n",
       "    <tr>\n",
       "      <th>3</th>\n",
       "      <td>0.510</td>\n",
       "      <td>0.714</td>\n",
       "      <td>-0.008</td>\n",
       "      <td>0.688</td>\n",
       "      <td>0.829</td>\n",
       "      <td>0.000</td>\n",
       "      <td>1.000</td>\n",
       "    </tr>\n",
       "    <tr>\n",
       "      <th>4</th>\n",
       "      <td>0.510</td>\n",
       "      <td>0.714</td>\n",
       "      <td>-0.008</td>\n",
       "      <td>0.688</td>\n",
       "      <td>0.829</td>\n",
       "      <td>0.000</td>\n",
       "      <td>10.000</td>\n",
       "    </tr>\n",
       "    <tr>\n",
       "      <th>5</th>\n",
       "      <td>0.510</td>\n",
       "      <td>0.714</td>\n",
       "      <td>-0.008</td>\n",
       "      <td>0.688</td>\n",
       "      <td>0.829</td>\n",
       "      <td>0.000</td>\n",
       "      <td>100.000</td>\n",
       "    </tr>\n",
       "  </tbody>\n",
       "</table>\n",
       "</div>"
      ],
      "text/plain": [
       "   mse Test  Rmse Test  RSquare Test  mse Train  Rmse Train  RSquare Train  \\\n",
       "0     0.342      0.585         0.322      0.436       0.660          0.366   \n",
       "1     0.342      0.585         0.323      0.467       0.683          0.321   \n",
       "2     0.510      0.714        -0.008      0.688       0.829          0.000   \n",
       "3     0.510      0.714        -0.008      0.688       0.829          0.000   \n",
       "4     0.510      0.714        -0.008      0.688       0.829          0.000   \n",
       "5     0.510      0.714        -0.008      0.688       0.829          0.000   \n",
       "\n",
       "    Alpha  \n",
       "0   0.001  \n",
       "1   0.010  \n",
       "2   0.100  \n",
       "3   1.000  \n",
       "4  10.000  \n",
       "5 100.000  "
      ]
     },
     "execution_count": 34,
     "metadata": {},
     "output_type": "execute_result"
    }
   ],
   "source": [
    "from sklearn.linear_model import Lasso\n",
    "log_wins_lasso=[]\n",
    "\n",
    "\n",
    "for alpha in alpha_list:\n",
    "    lassoregr = Lasso(alpha=alpha) \n",
    "    lassoregr.fit(X_train, Y_train)\n",
    "\n",
    "    Y_preds_train = lassoregr.predict(X_train)\n",
    "    Y_preds_test = lassoregr.predict(X_test)\n",
    "    log_wins_lasso.append((mse(Y_test, Y_preds_test),rmse(Y_test, Y_preds_test),lassoregr.score(X_test, Y_test),\n",
    "                         mse(Y_train, Y_preds_train),rmse(Y_train, Y_preds_train),lassoregr.score(X_train, Y_train),alpha))\n",
    "    \n",
    "\n",
    "log_wins_lasso=pd.DataFrame(log_wins_lasso,columns=['mse Test','Rmse Test','RSquare Test','mse Train','Rmse Train','RSquare Train','Alpha'])\n",
    "log_wins_lasso"
   ]
  },
  {
   "cell_type": "code",
   "execution_count": 4,
   "metadata": {},
   "outputs": [
    {
     "data": {
      "text/html": [
       "<div>\n",
       "<style scoped>\n",
       "    .dataframe tbody tr th:only-of-type {\n",
       "        vertical-align: middle;\n",
       "    }\n",
       "\n",
       "    .dataframe tbody tr th {\n",
       "        vertical-align: top;\n",
       "    }\n",
       "\n",
       "    .dataframe thead th {\n",
       "        text-align: right;\n",
       "    }\n",
       "</style>\n",
       "<table border=\"1\" class=\"dataframe\">\n",
       "  <thead>\n",
       "    <tr style=\"text-align: right;\">\n",
       "      <th></th>\n",
       "      <th>Model Name</th>\n",
       "      <th>mse Test</th>\n",
       "      <th>Rmse Test</th>\n",
       "      <th>RSquare Test</th>\n",
       "      <th>mse Train</th>\n",
       "      <th>Rmse Train</th>\n",
       "      <th>RSquare Train</th>\n",
       "    </tr>\n",
       "  </thead>\n",
       "  <tbody>\n",
       "    <tr>\n",
       "      <th>0</th>\n",
       "      <td>Base</td>\n",
       "      <td>0.342</td>\n",
       "      <td>0.585</td>\n",
       "      <td>0.324</td>\n",
       "      <td>0.444</td>\n",
       "      <td>0.666</td>\n",
       "      <td>0.354</td>\n",
       "    </tr>\n",
       "    <tr>\n",
       "      <th>1</th>\n",
       "      <td>Winsorize</td>\n",
       "      <td>0.335</td>\n",
       "      <td>0.579</td>\n",
       "      <td>0.336</td>\n",
       "      <td>0.443</td>\n",
       "      <td>0.666</td>\n",
       "      <td>0.355</td>\n",
       "    </tr>\n",
       "    <tr>\n",
       "      <th>2</th>\n",
       "      <td>Log</td>\n",
       "      <td>0.342</td>\n",
       "      <td>0.585</td>\n",
       "      <td>0.323</td>\n",
       "      <td>0.476</td>\n",
       "      <td>0.690</td>\n",
       "      <td>0.307</td>\n",
       "    </tr>\n",
       "    <tr>\n",
       "      <th>3</th>\n",
       "      <td>Log-Winsorize</td>\n",
       "      <td>0.339</td>\n",
       "      <td>0.582</td>\n",
       "      <td>0.330</td>\n",
       "      <td>0.435</td>\n",
       "      <td>0.660</td>\n",
       "      <td>0.367</td>\n",
       "    </tr>\n",
       "    <tr>\n",
       "      <th>4</th>\n",
       "      <td>Winsorize-Log</td>\n",
       "      <td>0.339</td>\n",
       "      <td>0.582</td>\n",
       "      <td>0.330</td>\n",
       "      <td>0.437</td>\n",
       "      <td>0.661</td>\n",
       "      <td>0.364</td>\n",
       "    </tr>\n",
       "  </tbody>\n",
       "</table>\n",
       "</div>"
      ],
      "text/plain": [
       "      Model Name  mse Test  Rmse Test  RSquare Test  mse Train  Rmse Train  \\\n",
       "0           Base     0.342      0.585         0.324      0.444       0.666   \n",
       "1      Winsorize     0.335      0.579         0.336      0.443       0.666   \n",
       "2            Log     0.342      0.585         0.323      0.476       0.690   \n",
       "3  Log-Winsorize     0.339      0.582         0.330      0.435       0.660   \n",
       "4  Winsorize-Log     0.339      0.582         0.330      0.437       0.661   \n",
       "\n",
       "   RSquare Train  \n",
       "0          0.354  \n",
       "1          0.355  \n",
       "2          0.307  \n",
       "3          0.367  \n",
       "4          0.364  "
      ]
     },
     "execution_count": 4,
     "metadata": {},
     "output_type": "execute_result"
    }
   ],
   "source": [
    "results={'Model Name':['Base','Winsorize','Log','Log-Winsorize', 'Winsorize-Log'],\n",
    "        'mse Test':[0.342,0.335,0.342,0.339,0.339],\n",
    "         'Rmse Test':[0.585,0.579,0.585,0.582,0.582],\n",
    "         'RSquare Test':[0.324,0.336,0.323,0.330,0.330],\n",
    "         'mse Train':[0.444,0.443,0.476,0.435,0.437],\n",
    "         'Rmse Train':[0.666,0.666,0.690,0.660,0.661],\n",
    "         'RSquare Train':[0.354,0.355,0.307,0.367,0.364]\n",
    "        }\n",
    "results=pd.DataFrame(results)\n",
    "results"
   ]
  },
  {
   "cell_type": "code",
   "execution_count": null,
   "metadata": {},
   "outputs": [],
   "source": []
  }
 ],
 "metadata": {
  "kernelspec": {
   "display_name": "Python 3",
   "language": "python",
   "name": "python3"
  },
  "language_info": {
   "codemirror_mode": {
    "name": "ipython",
    "version": 3
   },
   "file_extension": ".py",
   "mimetype": "text/x-python",
   "name": "python",
   "nbconvert_exporter": "python",
   "pygments_lexer": "ipython3",
   "version": "3.8.0"
  }
 },
 "nbformat": 4,
 "nbformat_minor": 4
}
